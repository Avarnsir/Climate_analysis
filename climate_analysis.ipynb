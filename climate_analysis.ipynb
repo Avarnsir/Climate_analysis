{
 "cells": [
  {
   "cell_type": "code",
   "execution_count": 14,
   "id": "7b2c4370-de53-4cd3-9c37-0ef34e7f65e1",
   "metadata": {},
   "outputs": [
    {
     "name": "stdout",
     "output_type": "stream",
     "text": [
      "                 SUBDIVISION  YEAR   JAN    FEB   MAR    APR    MAY    JUN  \\\n",
      "0  Andaman & Nicobar Islands  1901  49.2   87.1  29.2    2.3  528.8  517.5   \n",
      "1  Andaman & Nicobar Islands  1902   0.0  159.8  12.2    0.0  446.1  537.1   \n",
      "2  Andaman & Nicobar Islands  1903  12.7  144.0   0.0    1.0  235.1  479.9   \n",
      "3  Andaman & Nicobar Islands  1904   9.4   14.7   0.0  202.4  304.5  495.1   \n",
      "4  Andaman & Nicobar Islands  1905   1.3    0.0   3.3   26.9  279.5  628.7   \n",
      "\n",
      "     JUL    AUG    SEP    OCT    NOV    DEC  ANNUAL     JF    MAM    JJAS  \\\n",
      "0  365.1  481.1  332.6  388.5  558.2   33.6  3373.2  136.3  560.3  1696.3   \n",
      "1  228.9  753.7  666.2  197.2  359.0  160.5  3520.7  159.8  458.3  2185.9   \n",
      "2  728.4  326.7  339.0  181.2  284.4  225.0  2957.4  156.7  236.1  1874.0   \n",
      "3  502.0  160.1  820.4  222.2  308.7   40.1  3079.6   24.1  506.9  1977.6   \n",
      "4  368.7  330.5  297.0  260.7   25.4  344.7  2566.7    1.3  309.7  1624.9   \n",
      "\n",
      "     OND  \n",
      "0  980.3  \n",
      "1  716.7  \n",
      "2  690.6  \n",
      "3  571.0  \n",
      "4  630.8  \n",
      "<class 'pandas.core.frame.DataFrame'>\n",
      "RangeIndex: 4188 entries, 0 to 4187\n",
      "Data columns (total 19 columns):\n",
      " #   Column       Non-Null Count  Dtype  \n",
      "---  ------       --------------  -----  \n",
      " 0   SUBDIVISION  4188 non-null   object \n",
      " 1   YEAR         4188 non-null   int64  \n",
      " 2   JAN          4184 non-null   float64\n",
      " 3   FEB          4185 non-null   float64\n",
      " 4   MAR          4182 non-null   float64\n",
      " 5   APR          4184 non-null   float64\n",
      " 6   MAY          4185 non-null   float64\n",
      " 7   JUN          4183 non-null   float64\n",
      " 8   JUL          4181 non-null   float64\n",
      " 9   AUG          4184 non-null   float64\n",
      " 10  SEP          4182 non-null   float64\n",
      " 11  OCT          4181 non-null   float64\n",
      " 12  NOV          4177 non-null   float64\n",
      " 13  DEC          4178 non-null   float64\n",
      " 14  ANNUAL       4162 non-null   float64\n",
      " 15  JF           4182 non-null   float64\n",
      " 16  MAM          4179 non-null   float64\n",
      " 17  JJAS         4178 non-null   float64\n",
      " 18  OND          4175 non-null   float64\n",
      "dtypes: float64(17), int64(1), object(1)\n",
      "memory usage: 621.8+ KB\n",
      "None\n"
     ]
    }
   ],
   "source": [
    "import pandas as pd\n",
    "import numpy as np\n",
    "\n",
    "#Load the data\n",
    "df = pd.read_csv('Climate_data_till_2017.csv')\n",
    "print(df.head())\n",
    "print(df.info())"
   ]
  },
  {
   "cell_type": "code",
   "execution_count": 16,
   "id": "582f05e7-2e78-45e3-8379-79ead3f36e5a",
   "metadata": {},
   "outputs": [
    {
     "data": {
      "text/plain": [
       "0        33.6\n",
       "1       160.5\n",
       "2       225.0\n",
       "3        40.1\n",
       "4       344.7\n",
       "        ...  \n",
       "4183     26.7\n",
       "4184     62.3\n",
       "4185    159.0\n",
       "4186     74.7\n",
       "4187    160.1\n",
       "Name: DEC, Length: 4188, dtype: object"
      ]
     },
     "execution_count": 16,
     "metadata": {},
     "output_type": "execute_result"
    }
   ],
   "source": [
    "df['JAN'].fillna('')\n",
    "df['FEB'].fillna('')\n",
    "df['MAR'].fillna('')\n",
    "df['APR'].fillna('')\n",
    "df['MAY'].fillna('')\n",
    "df['JUN'].fillna('')\n",
    "df['JUL'].fillna('')\n",
    "df['AUG'].fillna('')\n",
    "df['SEP'].fillna('')\n",
    "df['OCT'].fillna('')\n",
    "df['NOV'].fillna('')\n",
    "df['DEC'].fillna('')"
   ]
  },
  {
   "cell_type": "code",
   "execution_count": 19,
   "id": "769e8be2-0184-4726-9c41-59e1818527dd",
   "metadata": {},
   "outputs": [],
   "source": [
    "months = ['JAN', 'FEB', 'MAR', 'APR', 'MAY', 'JUN', 'JUL', 'AUG', 'SEP', 'OCT', 'NOV', 'DEC']\n",
    "for month in months:\n",
    "    df[month] = pd.to_numeric(df[month], errors='coerce')\n",
    "df['ANNUAL'] = df[months].sum(axis=1, skipna=True)\n",
    "df['ANNUAL_Missing'] = df[months].isnull().sum(axis=1)"
   ]
  },
  {
   "cell_type": "code",
   "execution_count": 20,
   "id": "4a88ac8f-ab60-4345-9c2c-87404e48c5e8",
   "metadata": {},
   "outputs": [
    {
     "name": "stdout",
     "output_type": "stream",
     "text": [
      "                 SUBDIVISION  YEAR   JAN    FEB   MAR    APR    MAY    JUN  \\\n",
      "0  Andaman & Nicobar Islands  1901  49.2   87.1  29.2    2.3  528.8  517.5   \n",
      "1  Andaman & Nicobar Islands  1902   0.0  159.8  12.2    0.0  446.1  537.1   \n",
      "2  Andaman & Nicobar Islands  1903  12.7  144.0   0.0    1.0  235.1  479.9   \n",
      "3  Andaman & Nicobar Islands  1904   9.4   14.7   0.0  202.4  304.5  495.1   \n",
      "4  Andaman & Nicobar Islands  1905   1.3    0.0   3.3   26.9  279.5  628.7   \n",
      "\n",
      "     JUL    AUG    SEP    OCT    NOV    DEC  ANNUAL     JF    MAM    JJAS  \\\n",
      "0  365.1  481.1  332.6  388.5  558.2   33.6  3373.2  136.3  560.3  1696.3   \n",
      "1  228.9  753.7  666.2  197.2  359.0  160.5  3520.7  159.8  458.3  2185.9   \n",
      "2  728.4  326.7  339.0  181.2  284.4  225.0  2957.4  156.7  236.1  1874.0   \n",
      "3  502.0  160.1  820.4  222.2  308.7   40.1  3079.6   24.1  506.9  1977.6   \n",
      "4  368.7  330.5  297.0  260.7   25.4  344.7  2566.7    1.3  309.7  1624.9   \n",
      "\n",
      "     OND  ANNUAL_Missing  \n",
      "0  980.3               0  \n",
      "1  716.7               0  \n",
      "2  690.6               0  \n",
      "3  571.0               0  \n",
      "4  630.8               0  \n"
     ]
    }
   ],
   "source": [
    "print(df.head())"
   ]
  },
  {
   "cell_type": "code",
   "execution_count": 23,
   "id": "53ca0587-352d-43d1-bc73-10c64faa7446",
   "metadata": {},
   "outputs": [
    {
     "name": "stdout",
     "output_type": "stream",
     "text": [
      "SUBDIVISION        0\n",
      "YEAR               0\n",
      "JAN                4\n",
      "FEB                3\n",
      "MAR                6\n",
      "APR                4\n",
      "MAY                3\n",
      "JUN                5\n",
      "JUL                7\n",
      "AUG                4\n",
      "SEP                6\n",
      "OCT                7\n",
      "NOV               11\n",
      "DEC               10\n",
      "ANNUAL             0\n",
      "JF                 6\n",
      "MAM                9\n",
      "JJAS              10\n",
      "OND               13\n",
      "ANNUAL_Missing     0\n",
      "dtype: int64\n"
     ]
    }
   ],
   "source": [
    "#cheacking the annual data after cleaning and modifying the dataset\n",
    "\n",
    "print(df.isnull().sum())"
   ]
  },
  {
   "cell_type": "code",
   "execution_count": 24,
   "id": "411890c8-e7a9-4e79-befd-62c516d2d38b",
   "metadata": {},
   "outputs": [],
   "source": [
    "jan_feb = ['JAN','FEB']\n",
    "for month in jan_feb:\n",
    "        df[month] = pd.to_numeric(df[month], errors='coerce')\n",
    "df['JF'] = df[jan_feb].sum(axis=1, skipna=True)\n",
    "df['JF_Missing'] = df[jan_feb].isnull().sum(axis=1)"
   ]
  },
  {
   "cell_type": "code",
   "execution_count": 25,
   "id": "022dbf60-3cd6-4ddd-b01b-82a8b722e7c7",
   "metadata": {},
   "outputs": [],
   "source": [
    "mar_apr_may = ['MAR','APR', 'MAY']\n",
    "for month in mar_apr_may:\n",
    "        df[month] = pd.to_numeric(df[month], errors='coerce')\n",
    "df['MAM'] = df[mar_apr_may].sum(axis=1, skipna=True)\n",
    "df['MAM_Missing'] = df[mar_apr_may].isnull().sum(axis=1)"
   ]
  },
  {
   "cell_type": "code",
   "execution_count": 26,
   "id": "a0b6f0bd-9312-4242-8162-4c244f4dccfb",
   "metadata": {},
   "outputs": [],
   "source": [
    "JJAS_data = ['JUN','JUL','AUG','SEP']\n",
    "for month in JJAS_data:\n",
    "        df[month] = pd.to_numeric(df[month], errors='coerce')\n",
    "df['JJAS'] = df[JJAS_data].sum(axis=1, skipna=True)\n",
    "df['JJAS_Missing'] = df[JJAS_data].isnull().sum(axis=1)"
   ]
  },
  {
   "cell_type": "code",
   "execution_count": 27,
   "id": "ae97519b-8c73-4e8a-8164-a469ce21a049",
   "metadata": {},
   "outputs": [],
   "source": [
    "OND_data = ['OCT', 'NOV', 'DEC']\n",
    "for month in OND_data:\n",
    "        df[month] = pd.to_numeric(df[month], errors='coerce')\n",
    "df['OND'] = df[OND_data].sum(axis=1, skipna=True)\n",
    "df['OND_Missing'] = df[OND_data].isnull().sum(axis=1)"
   ]
  },
  {
   "cell_type": "code",
   "execution_count": 28,
   "id": "d563cad9-0d89-4da9-81f3-7902acf5f4f6",
   "metadata": {},
   "outputs": [
    {
     "name": "stdout",
     "output_type": "stream",
     "text": [
      "SUBDIVISION        0\n",
      "YEAR               0\n",
      "JAN                4\n",
      "FEB                3\n",
      "MAR                6\n",
      "APR                4\n",
      "MAY                3\n",
      "JUN                5\n",
      "JUL                7\n",
      "AUG                4\n",
      "SEP                6\n",
      "OCT                7\n",
      "NOV               11\n",
      "DEC               10\n",
      "ANNUAL             0\n",
      "JF                 0\n",
      "MAM                0\n",
      "JJAS               0\n",
      "OND                0\n",
      "ANNUAL_Missing     0\n",
      "JF_Missing         0\n",
      "MAM_Missing        0\n",
      "JJAS_Missing       0\n",
      "OND_Missing        0\n",
      "dtype: int64\n"
     ]
    }
   ],
   "source": [
    "print(df.isnull().sum())"
   ]
  },
  {
   "cell_type": "code",
   "execution_count": 31,
   "id": "9d9c85f6-9ddc-412b-903a-f08939897a8a",
   "metadata": {},
   "outputs": [],
   "source": [
    "#Export the new and filtered data as CSV\n",
    "df.to_csv('processed_rainfall_data.csv', index=False)"
   ]
  },
  {
   "cell_type": "code",
   "execution_count": null,
   "id": "c5c9c1f3-bfc3-4465-87a2-9c1aee28ef26",
   "metadata": {},
   "outputs": [],
   "source": []
  }
 ],
 "metadata": {
  "kernelspec": {
   "display_name": "Python 3 (ipykernel)",
   "language": "python",
   "name": "python3"
  },
  "language_info": {
   "codemirror_mode": {
    "name": "ipython",
    "version": 3
   },
   "file_extension": ".py",
   "mimetype": "text/x-python",
   "name": "python",
   "nbconvert_exporter": "python",
   "pygments_lexer": "ipython3",
   "version": "3.13.7"
  }
 },
 "nbformat": 4,
 "nbformat_minor": 5
}
